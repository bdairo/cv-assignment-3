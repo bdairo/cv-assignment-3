{
 "cells": [
  {
   "cell_type": "code",
   "execution_count": null,
   "id": "fc85195e-1cb7-478f-b38d-00b4bda3fcf0",
   "metadata": {},
   "outputs": [],
   "source": [
    "import cv2\n",
    "import numpy as np\n",
    "\n",
    "# Create a blank white image (1920x1080 pixels)\n",
    "image = np.full((1080, 1920, 3), 255, np.uint8)\n",
    "\n",
    "# Define the center and radius of the marker\n",
    "center = (960, 540)  # Center of the image\n",
    "radius = 50          # Larger radius for the circle\n",
    "color = (10, 10, 10)  # Dark gray color in BGR format\n",
    "thickness = -1       # Fill the circle\n",
    "\n",
    "# Draw the circle on the image\n",
    "cv2.circle(image, center, radius, color, thickness)\n",
    "\n",
    "# Display the image\n",
    "cv2.imshow('Large Image with Dark Marker', image)\n",
    "cv2.waitKey(0)\n",
    "cv2.destroyAllWindows()\n"
   ]
  },
  {
   "cell_type": "code",
   "execution_count": null,
   "id": "42f95a66-0faf-41f3-a204-c9ca6be45b66",
   "metadata": {},
   "outputs": [],
   "source": []
  }
 ],
 "metadata": {
  "kernelspec": {
   "display_name": "Python 3 (ipykernel)",
   "language": "python",
   "name": "python3"
  },
  "language_info": {
   "codemirror_mode": {
    "name": "ipython",
    "version": 3
   },
   "file_extension": ".py",
   "mimetype": "text/x-python",
   "name": "python",
   "nbconvert_exporter": "python",
   "pygments_lexer": "ipython3",
   "version": "3.11.7"
  }
 },
 "nbformat": 4,
 "nbformat_minor": 5
}
